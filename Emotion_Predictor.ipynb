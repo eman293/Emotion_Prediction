{
  "cells": [
    {
      "cell_type": "code",
      "execution_count": 2,
      "metadata": {
        "id": "1ai2suWEWEfY"
      },
      "outputs": [],
      "source": [
        "import pandas as pd\n",
        "import numpy as np\n",
        "import matplotlib.pyplot as plt\n",
        "from sklearn.feature_extraction.text import TfidfVectorizer\n",
        "from sklearn.model_selection import StratifiedKFold\n",
        "from sklearn.svm import SVC\n",
        "from sklearn.ensemble import RandomForestClassifier\n",
        "from sklearn.metrics import confusion_matrix, f1_score, accuracy_score, classification_report\n",
        "from nltk.corpus import stopwords\n",
        "from nltk.tokenize import word_tokenize\n",
        "from collections import Counter\n",
        "import nltk"
      ]
    },
    {
      "cell_type": "code",
      "execution_count": 3,
      "metadata": {
        "id": "fmUY-gWWWUS6"
      },
      "outputs": [],
      "source": [
        "df = pd.read_csv('emotions.csv')"
      ]
    },
    {
      "cell_type": "code",
      "execution_count": 4,
      "metadata": {
        "colab": {
          "base_uri": "https://localhost:8080/",
          "height": 206
        },
        "id": "aNMQ7VD3Wbkn",
        "outputId": "3e166642-c11c-479e-bd5a-f40e5a31c345"
      },
      "outputs": [
        {
          "data": {
            "text/html": [
              "<div>\n",
              "<style scoped>\n",
              "    .dataframe tbody tr th:only-of-type {\n",
              "        vertical-align: middle;\n",
              "    }\n",
              "\n",
              "    .dataframe tbody tr th {\n",
              "        vertical-align: top;\n",
              "    }\n",
              "\n",
              "    .dataframe thead th {\n",
              "        text-align: right;\n",
              "    }\n",
              "</style>\n",
              "<table border=\"1\" class=\"dataframe\">\n",
              "  <thead>\n",
              "    <tr style=\"text-align: right;\">\n",
              "      <th></th>\n",
              "      <th>text</th>\n",
              "      <th>label</th>\n",
              "    </tr>\n",
              "  </thead>\n",
              "  <tbody>\n",
              "    <tr>\n",
              "      <th>0</th>\n",
              "      <td>i just feel really helpless and heavy hearted</td>\n",
              "      <td>4</td>\n",
              "    </tr>\n",
              "    <tr>\n",
              "      <th>1</th>\n",
              "      <td>ive enjoyed being able to slouch about relax a...</td>\n",
              "      <td>0</td>\n",
              "    </tr>\n",
              "    <tr>\n",
              "      <th>2</th>\n",
              "      <td>i gave up my internship with the dmrg and am f...</td>\n",
              "      <td>4</td>\n",
              "    </tr>\n",
              "    <tr>\n",
              "      <th>3</th>\n",
              "      <td>i dont know i feel so lost</td>\n",
              "      <td>0</td>\n",
              "    </tr>\n",
              "    <tr>\n",
              "      <th>4</th>\n",
              "      <td>i am a kindergarten teacher and i am thoroughl...</td>\n",
              "      <td>4</td>\n",
              "    </tr>\n",
              "  </tbody>\n",
              "</table>\n",
              "</div>"
            ],
            "text/plain": [
              "                                                text  label\n",
              "0      i just feel really helpless and heavy hearted      4\n",
              "1  ive enjoyed being able to slouch about relax a...      0\n",
              "2  i gave up my internship with the dmrg and am f...      4\n",
              "3                         i dont know i feel so lost      0\n",
              "4  i am a kindergarten teacher and i am thoroughl...      4"
            ]
          },
          "execution_count": 4,
          "metadata": {},
          "output_type": "execute_result"
        }
      ],
      "source": [
        "df.head()"
      ]
    },
    {
      "cell_type": "code",
      "execution_count": 5,
      "metadata": {
        "id": "U2Op2_XVWfGS"
      },
      "outputs": [],
      "source": [
        "tfidf = TfidfVectorizer(max_features=10000)\n",
        "X = tfidf.fit_transform(df['text'])\n",
        "y = df['label']"
      ]
    },
    {
      "cell_type": "code",
      "execution_count": 6,
      "metadata": {
        "id": "RgCmNkN6Whih"
      },
      "outputs": [],
      "source": [
        "emotion_words = {}\n",
        "for emo in df['label'].unique():\n",
        "    all_words = ' '.join(df[df['label'] == emo]['text']).split()\n",
        "    common = [w for w, _ in Counter(all_words).most_common(100)]\n",
        "    emotion_words[emo] = common"
      ]
    },
    {
      "cell_type": "code",
      "execution_count": 7,
      "metadata": {
        "colab": {
          "base_uri": "https://localhost:8080/"
        },
        "id": "b0uNlZzvW4LX",
        "outputId": "fcf6bbc5-02b5-4bc6-ab95-80ab391b0948"
      },
      "outputs": [
        {
          "name": "stdout",
          "output_type": "stream",
          "text": [
            "Top words for 4: ['bit', 'time', 'been', 'still', 'are', 'how', 'get', 'being', 'had', 'will', 'now', 'would', 'people', 'from', 'think', 'they', 'want', 'he', 'scared', 'afraid', 'her', 'anxious', 'them', 'going', 'there', 'm', 'nervous', 'ive', 'one', 'even', 'some', 'things', 'him', 'dont', 'uncomfortable', 'something', 'insecure', 'unsure', 'overwhelmed', 'weird', 'strange', 'too', 'go', 'we', 'pressured', 'vulnerable', 'who', 'terrified', 'reluctant', 'much']\n",
            "Top words for 0: ['more', 'from', 'had', 'little', 'what', 'now', 'get', 'how', 'very', 'ive', 'would', 'people', 'still', 'will', 'even', 'want', 'think', 'they', 'her', 'he', 'one', 'life', 'an', 'bit', 'who', 'dont', 'them', 'much', 'some', 'him', 'its', 'no', 'there', 'things', 'something', 'm', 'we', 'way', 'day', 'going', 'make', 'too', 's', 'could', 'don', 'go', 'back', 'she', 'over', 'has']\n",
            "Top words for 2: ['him', 'been', 'they', 'them', 'from', 'people', 'would', 'time', 'will', 'one', 'loved', 'up', 'who', 'loving', 'want', 'hot', 'sweet', 'by', 'little', 'his', 'out', 'liked', 'caring', 'being', 'had', 'much', 'we', 'myself', 'your', 'sympathetic', 'longing', 'get', 'gentle', 'think', 'tender', 'lovely', 'accepted', 'blessed', 'some', 'now', 'supporting', 'passionate', 's', 'romantic', 'still', 'even', 'could', 'there', 'life', 'way']\n",
            "Top words for 1: ['been', 'get', 'they', 'how', 'now', 'had', 'myself', 'by', 'from', 'would', 'people', 'one', 'we', 'them', 'some', 'an', 'want', 'make', 'much', 'love', 'life', 'he', 'think', 'its', 'there', 'her', 's', 'something', 'being', 'than', 'who', 'pretty', 'good', 'little', 'even', 'still', 'way', 'ive', 'm', 'day', 'things', 'going', 'happy', 'could', 'him', 'has', 'well', 'too', 'need', 'their']\n",
            "Top words for 5: ['because', 't', 'know', 'do', 'dazed', 'been', 'still', 'out', 'up', 'can', 'had', 'time', 'are', 'myself', 'very', 'if', 'more', 'bit', 'people', 'they', 'from', 'get', 'feels', 'would', 'he', 'now', 'will', 'stunned', 'think', 'one', 'some', 'ive', 'her', 'its', 's', 'them', 'even', 'there', 'an', 'see', 'much', 'we', 'm', 'things', 'going', 'way', 'something', 'life', 'she', 'could']\n",
            "Top words for 3: ['people', 'are', 'time', 'little', 'what', 'he', 'they', 'how', 'had', 'very', 'would', 'her', 'now', 'want', 'who', 'from', 'them', 'angry', 'think', 'dont', 'even', 'him', 'one', 'some', 'things', 'bit', 'will', 'still', 'ive', 'way', 'its', 'm', 'something', 'too', 'she', 'much', 's', 'an', 'frustrated', 'we', 'no', 'annoyed', 'could', 'don', 'going', 'off', 'cant', 'cold', 'there', 'selfish']\n"
          ]
        }
      ],
      "source": [
        "for emo, words in emotion_words.items():\n",
        "    print(f\"Top words for {emo}: {words[50:100]}\")\n",
        "\n",
        "#0 = Sadness\n",
        "#1 = Joy\n",
        "#2 = Love\n",
        "#3 = Anger\n",
        "#4 = Fear\n",
        "#5 = Surprise"
      ]
    },
    {
      "cell_type": "code",
      "execution_count": 8,
      "metadata": {
        "id": "uopJbDrYW6jF"
      },
      "outputs": [],
      "source": [
        "def get_models():\n",
        "    return {\n",
        "        'RandomForest': RandomForestClassifier(n_estimators=100, random_state=42),\n",
        "        'SVM_soft': SVC(C=1.0, kernel='rbf', probability=True),  # soft margin default C=1\n",
        "        'SVM_hard': SVC(C=1e6, kernel='rbf', probability=True)  # approximate hard margin with large C\n",
        "    }"
      ]
    },
    {
      "cell_type": "code",
      "execution_count": 9,
      "metadata": {
        "id": "6bwalkS6XwC2"
      },
      "outputs": [],
      "source": [
        "models = get_models()"
      ]
    },
    {
      "cell_type": "code",
      "execution_count": 10,
      "metadata": {
        "id": "1J8tcznKXyV_"
      },
      "outputs": [],
      "source": [
        "kf = StratifiedKFold(n_splits=10, shuffle=True, random_state=42)\n",
        "\n",
        "fold_accuracies = {name: [] for name in models}\n",
        "conf_matrices = {name: np.zeros((len(np.unique(y)),) * 2, dtype=int) for name in models}\n",
        "f1_scores = {name: [] for name in models}\n",
        "\n",
        "for fold, (train_idx, test_idx) in enumerate(kf.split(X, y), 1):\n",
        "    X_train, X_test = X[train_idx], X[test_idx]\n",
        "    y_train, y_test = y.iloc[train_idx], y.iloc[test_idx]\n",
        "\n",
        "    for name, model in models.items():\n",
        "        model.fit(X_train, y_train)\n",
        "        preds = model.predict(X_test)\n",
        "\n",
        "        acc = accuracy_score(y_test, preds)\n",
        "        fold_accuracies[name].append(acc)\n",
        "\n",
        "        conf_matrices[name] += confusion_matrix(y_test, preds, labels=np.unique(y))\n",
        "\n",
        "        f1 = f1_score(y_test, preds, average=None, labels=np.unique(y))\n",
        "        f1_scores[name].append(f1)\n",
        "\n",
        "        print(f\"Fold {fold}, {name} - Acc: {acc:.4f}\")"
      ]
    },
    {
      "cell_type": "code",
      "execution_count": null,
      "metadata": {
        "id": "K5aLuzK1X4kX"
      },
      "outputs": [],
      "source": [
        "for name in models:\n",
        "    avg_acc = np.mean(fold_accuracies[name])\n",
        "    print(f\"\\n{name} average accuracy: {avg_acc:.4f}\")\n",
        "    print(\"Confusion Matrix:\")\n",
        "    print(conf_matrices[name])\n",
        "    print(\"Average F1 per class:\")\n",
        "    mean_f1 = np.mean(f1_scores[name], axis=0)\n",
        "    for emo, score in zip(np.unique(y), mean_f1):\n",
        "        print(f\"{emo}: {score:.4f}\")"
      ]
    },
    {
      "cell_type": "code",
      "execution_count": null,
      "metadata": {
        "id": "OslTtjYsX8QT"
      },
      "outputs": [],
      "source": [
        "plt.figure(figsize=(10, 6))\n",
        "for name, accs in fold_accuracies.items():\n",
        "    plt.plot(range(1, len(accs)+1), accs, marker='o', label=name)\n",
        "plt.title('Model Accuracy per Fold')\n",
        "plt.xlabel('Fold')\n",
        "plt.ylabel('Accuracy')\n",
        "plt.xticks(range(1, 11))\n",
        "plt.legend()\n",
        "plt.grid(True)\n",
        "plt.show()"
      ]
    },
    {
      "cell_type": "code",
      "execution_count": null,
      "metadata": {
        "id": "d1GmFLakX-EY"
      },
      "outputs": [],
      "source": [
        "def predict_emotion(text, model, tfidf_vectorizer, preprocess_func):\n",
        "    cleaned_text = preprocess_func(text)\n",
        "    vectorized_text = tfidf_vectorizer.transform([cleaned_text])\n",
        "    prediction = model.predict(vectorized_text)\n",
        "\n",
        "    return prediction[0]"
      ]
    },
    {
      "cell_type": "code",
      "execution_count": null,
      "metadata": {
        "id": "3a3dOBlRYPX7"
      },
      "outputs": [],
      "source": [
        "input_text = \"I just got a promotion at work!\"\n",
        "\n",
        "predicted_emotion_rf = predict_emotion(input_text, models['RandomForest'], tfidf, preprocess_text)\n",
        "print(f\"Random Forest Prediction: {predicted_emotion_rf}\")\n",
        "\n",
        "predicted_emotion_svm_soft = predict_emotion(input_text, models['SVM_soft'], tfidf, preprocess_text)\n",
        "print(f\"Soft Margin SVM Prediction: {predicted_emotion_svm_soft}\")\n",
        "\n",
        "predicted_emotion_svm_hard = predict_emotion(input_text, models['SVM_hard'], tfidf, preprocess_text)\n",
        "print(f\"Hard Margin SVM Prediction: {predicted_emotion_svm_hard}\")"
      ]
    },
    {
      "cell_type": "code",
      "execution_count": null,
      "metadata": {},
      "outputs": [],
      "source": []
    }
  ],
  "metadata": {
    "colab": {
      "provenance": []
    },
    "kernelspec": {
      "display_name": "Python 3.10.11 64-bit (microsoft store)",
      "language": "python",
      "name": "python3"
    },
    "language_info": {
      "codemirror_mode": {
        "name": "ipython",
        "version": 3
      },
      "file_extension": ".py",
      "mimetype": "text/x-python",
      "name": "python",
      "nbconvert_exporter": "python",
      "pygments_lexer": "ipython3",
      "version": "3.10.11"
    },
    "vscode": {
      "interpreter": {
        "hash": "4d3d076b81ab144044d7b9e2444b8cbf6ed1a4227bed468599cd4c6c54d41226"
      }
    }
  },
  "nbformat": 4,
  "nbformat_minor": 0
}
